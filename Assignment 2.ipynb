{
 "cells": [
  {
   "cell_type": "markdown",
   "id": "83ae242b-12e5-4191-a815-419d844fa5e8",
   "metadata": {},
   "source": [
    "#### Question 1: Age Group Classification"
   ]
  },
  {
   "cell_type": "markdown",
   "id": "091c7b8f-478d-4e10-9050-1d31d7811737",
   "metadata": {},
   "source": [
    "##### Write a Python program that takes the age of a person as input and classifies them into one of the following age groups: \n",
    "##### \"Child\" if the age is between 0 and 12 (inclusive).\n",
    "##### \"Teenager\" if the age is between 13 and 19 (inclusive).\n",
    "##### \"Adult\" if the age is between 20 and 64 (inclusive).\n",
    "##### \"Senior\" if the age is 65 or older."
   ]
  },
  {
   "cell_type": "code",
   "execution_count": 48,
   "id": "32c7e879-018a-4e40-9481-b21dc0fa554a",
   "metadata": {},
   "outputs": [
    {
     "name": "stdin",
     "output_type": "stream",
     "text": [
      "enter your age: 24\n"
     ]
    },
    {
     "name": "stdout",
     "output_type": "stream",
     "text": [
      "Adult\n"
     ]
    }
   ],
   "source": [
    "age = int(input(\"enter your age:\"))\n",
    "if (age >= 0 and age <= 12):\n",
    "    print(\"child\")\n",
    "elif (age >= 13 and age <= 19):\n",
    "    print(\"Teenager\")\n",
    "elif (age >= 20 and age <= 64):\n",
    "    print(\"Adult\")\n",
    "elif (age >= 65):\n",
    "    print(\"Senior\")\n"
   ]
  },
  {
   "cell_type": "markdown",
   "id": "9e206ebb-e059-480e-9263-bdb9e593b540",
   "metadata": {},
   "source": [
    "#### Question 2: Checking for Eligibility for Discount"
   ]
  },
  {
   "cell_type": "markdown",
   "id": "6e82ba9c-5ed3-4e28-b110-d75d9f89ceb9",
   "metadata": {},
   "source": [
    "##### Write a Python program that determines if a customer is eligible for a discount. The program should take the customer's membership status and purchase amount as input and check the following\n",
    "##### conditions:\n",
    "##### The customer is a \"premium\" member and the purchase amount is greater than or equal to 1000.\n",
    "##### The customer is a \"regular\" member and the purchase amount is greater than or equal to 2000.\n",
    "##### If the customer meets either of the above conditions, print\"Eligible for discount\" otherwise print \"Not eligible for discount\""
   ]
  },
  {
   "cell_type": "code",
   "execution_count": 50,
   "id": "d3b25e35-421b-4d0a-b64d-bcebd76e07f3",
   "metadata": {},
   "outputs": [
    {
     "name": "stdin",
     "output_type": "stream",
     "text": [
      "enter your membership status(premium/regular): regular\n",
      "enter your purchase amount: 1000\n"
     ]
    },
    {
     "name": "stdout",
     "output_type": "stream",
     "text": [
      "not eligible for discount\n"
     ]
    }
   ],
   "source": [
    "membership_status = str(input(\"enter your membership status(premium/regular):\"))\n",
    "purchase_amount = int(input(\"enter your purchase amount:\"))\n",
    "if (membership_status == \"premium\" and purchase_amount >= 1000):\n",
    "    print(\"eligible for discount\")\n",
    "elif (membership_status == \"regular\" and purchase_amount >= 2000):\n",
    "    print(\"eligible for discount\")\n",
    "else:\n",
    "    print(\"not eligible for discount\")"
   ]
  },
  {
   "cell_type": "markdown",
   "id": "addc8ad5-4c03-4d7e-bde4-82ed5d8ec0e8",
   "metadata": {},
   "source": [
    "#### Question 3: Voting Eligibility Check"
   ]
  },
  {
   "cell_type": "markdown",
   "id": "d9f48f46-bd66-41ee-b1cd-e7cb285535be",
   "metadata": {},
   "source": [
    "##### Write a Python program that checks if a person is eligible to vote based on their age and citizenship status. The program should take the following inputs:\n",
    "##### Age (an integer).\n",
    "##### Citizenship status (a string: either \"citizen\" or \"non-citizen\").\n",
    "##### The eligibility conditions are:\n",
    "##### The person must be at least 18 years old and a \"citizen\" to be eligible to vote.\n",
    "##### Alternatively, the person can be at least 16 years old and a \"citizen\" of a special region where voting is allowed from age 16.\n",
    "##### If the person meets either of the conditions, print \"Eligible to vote\" otherwise print \"Not eligible to vote\"."
   ]
  },
  {
   "cell_type": "code",
   "execution_count": 52,
   "id": "f3f4eb94-2c39-4101-addd-0ad3fbb47042",
   "metadata": {},
   "outputs": [
    {
     "name": "stdin",
     "output_type": "stream",
     "text": [
      "enter your age: 16\n",
      "enter your citizenship status: citizen\n"
     ]
    },
    {
     "name": "stdout",
     "output_type": "stream",
     "text": [
      "not eligible to vote\n"
     ]
    }
   ],
   "source": [
    "age = int(input(\"enter your age:\"))\n",
    "citizenship_status = str(input(\"enter your citizenship status:\"))\n",
    "if (citizenship_status == \"citizen\" and age >= 18):\n",
    "    print(\"eligible to vote\")\n",
    "elif (citizenship_status == \"citizen of special region\" and age >= 16):\n",
    "    print(\"eligible to vote\")\n",
    "else:\n",
    "    print(\"not eligible to vote\")\n"
   ]
  },
  {
   "cell_type": "markdown",
   "id": "248817ab-fb82-45f3-b9a0-0e5a4c8c55dc",
   "metadata": {},
   "source": [
    "#### Question 4: Employee Salary Bonus Eligibility\n",
    "##### Write a Python program that determines if an employee is eligible for a salary bonus based on the following conditions:\n",
    "##### The employee's performance rating is \"Excellent\" and their years of service are greater than or equal to 5 years.\n",
    "##### The employee's performance rating is \"Good\" and their years of service are greater than or equal to 10 years.\n",
    "##### The employee's performance rating is \"Satisfactory\" or their years of service are greater than or equal to 15 years.\n",
    "##### The employee is not eligible for a bonus if neither of these conditions is met.\n",
    "##### The program should print one of the following:\n",
    "##### \"Eligible for bonus\" if the employee meets any of the criteria, \"Not eligible for bonus\" if none of the conditions apply."
   ]
  },
  {
   "cell_type": "code",
   "execution_count": 54,
   "id": "3b454917-b36f-4d92-91f7-96fa78eac734",
   "metadata": {},
   "outputs": [
    {
     "name": "stdin",
     "output_type": "stream",
     "text": [
      "enter your performance rating(excellent/good/satisfactory): excellent\n",
      "enter your years of service:  3\n"
     ]
    },
    {
     "name": "stdout",
     "output_type": "stream",
     "text": [
      "not eligible for bonus\n"
     ]
    }
   ],
   "source": [
    "employee_performance_rating = str(input(\"enter your performance rating(excellent/good/satisfactory):\"))\n",
    "employee_years_of_service = int(input(\"enter your years of service: \"))\n",
    "if (employee_performance_rating == \"excellent\" and employee_years_of_service >= 5):\n",
    "    print(\"eligible for bonus\")\n",
    "elif (employee_performance_rating == \"good\" and employee_years_of_service >= 10):\n",
    "    print(\"eligible for bonus\")\n",
    "elif (employee_performance_rating == \"satisfactory\" or employee_years_of_service >= 15):\n",
    "    print(\"eligible for bonus\")\n",
    "else:\n",
    "    print(\"not eligible for bonus\")"
   ]
  },
  {
   "cell_type": "markdown",
   "id": "44fbeed7-2200-4da5-94f0-720a30504dd8",
   "metadata": {},
   "source": [
    "##### Question 5. Write a program that replaces spaces with underscores, counts how many underscores are there, and finds the position \n",
    "##### of the first underscore. Use text: \"I'm learning Python programming?\""
   ]
  },
  {
   "cell_type": "code",
   "execution_count": 56,
   "id": "17e052f8-31cf-4220-832d-f8edf6c54e38",
   "metadata": {},
   "outputs": [
    {
     "name": "stdout",
     "output_type": "stream",
     "text": [
      "I'm_learning_Python_Programming?\n"
     ]
    }
   ],
   "source": [
    "original_string = \"I'm learning Python Programming?\"\n",
    "updated_string = original_string.replace(\" \" , \"_\")\n",
    "print(updated_string)"
   ]
  },
  {
   "cell_type": "code",
   "execution_count": 58,
   "id": "25a8ceae-764f-4ba9-b592-11d8f3af1d9a",
   "metadata": {},
   "outputs": [
    {
     "name": "stdout",
     "output_type": "stream",
     "text": [
      "3\n"
     ]
    }
   ],
   "source": [
    "underscore_count = updated_string.count(\"_\")\n",
    "print(underscore_count)"
   ]
  },
  {
   "cell_type": "code",
   "execution_count": 60,
   "id": "4bc49e0f-533d-4b75-89f5-02a0f140a0bb",
   "metadata": {},
   "outputs": [
    {
     "name": "stdout",
     "output_type": "stream",
     "text": [
      "3\n"
     ]
    }
   ],
   "source": [
    "updated_string = \"I'm_learning_Python_Programming?\"\n",
    "first_underscore_position = updated_string.find(\"_\")\n",
    "print(first_underscore_position)"
   ]
  },
  {
   "cell_type": "markdown",
   "id": "808d43cf-42ed-432b-91eb-e26b1e685e95",
   "metadata": {},
   "source": [
    "##### Question 6: Write a Python program that: Takes a string as input, Prints all characters of the string except the last 3 using slicing, \n",
    "##### Prints every second character of the string using slicing, Prints the string in reverse using slicing"
   ]
  },
  {
   "cell_type": "code",
   "execution_count": 62,
   "id": "8446ac8b-18b6-491b-9cbb-2f07fcd7134c",
   "metadata": {},
   "outputs": [
    {
     "name": "stdout",
     "output_type": "stream",
     "text": [
      "welcome to the cl\n"
     ]
    }
   ],
   "source": [
    "x = \"welcome to the class\"\n",
    "result = x[:-3]\n",
    "print(result)"
   ]
  },
  {
   "cell_type": "code",
   "execution_count": 64,
   "id": "3db38d16-e803-4211-b7ed-4b3dd7c6a237",
   "metadata": {},
   "outputs": [
    {
     "name": "stdout",
     "output_type": "stream",
     "text": [
      "m aei ayb \n"
     ]
    }
   ],
   "source": [
    "y = \"my name is tayyaba \"\n",
    "result = y[::2]\n",
    "print(result)"
   ]
  },
  {
   "cell_type": "code",
   "execution_count": 66,
   "id": "f26b9547-894c-48d1-af76-871f015ee287",
   "metadata": {},
   "outputs": [
    {
     "name": "stdout",
     "output_type": "stream",
     "text": [
      "ssalc eht ot emoclew\n"
     ]
    }
   ],
   "source": [
    "x = \"welcome to the class\"\n",
    "result = x[::-1]\n",
    "print(result)"
   ]
  },
  {
   "cell_type": "markdown",
   "id": "4de68144-d1c7-4df8-a696-1aefa78cf75d",
   "metadata": {},
   "source": [
    "##### Question 7. Given a sentence, you need to reverse the order of the words in the sentence while\n",
    "##### preserving their original capitalization and spaces. Use text : \"Hello World, We are learning Python\""
   ]
  },
  {
   "cell_type": "code",
   "execution_count": 68,
   "id": "4ad50838-ba20-49d8-b3ca-a52a0ba079f2",
   "metadata": {},
   "outputs": [
    {
     "name": "stdout",
     "output_type": "stream",
     "text": [
      "Python learning are We World, Hello\n"
     ]
    }
   ],
   "source": [
    "words = \"Hello World, We are learning Python\"\n",
    "words = words.split()\n",
    "reversed_words = words[::-1]\n",
    "reversed_sentence = ' '.join(reversed_words)\n",
    "print(reversed_sentence)"
   ]
  },
  {
   "cell_type": "markdown",
   "id": "6c1a8620-e5c6-4b58-b886-fb978d7bebed",
   "metadata": {},
   "source": [
    "##### Question 8. You have a product code that follows the format \"SKU-12345-XYZ\". You need to: Remove the \"SKU-\" and the \"-XYZ\" from the product code. Extract and return the number"
   ]
  },
  {
   "cell_type": "code",
   "execution_count": 70,
   "id": "0057286b-43a6-4ceb-add3-965e7d4956f2",
   "metadata": {},
   "outputs": [
    {
     "name": "stdout",
     "output_type": "stream",
     "text": [
      "12345\n"
     ]
    }
   ],
   "source": [
    "z = \"SKU-12345-XYZ\"\n",
    "a = z[4:9]\n",
    "print(a)"
   ]
  },
  {
   "cell_type": "markdown",
   "id": "9d0b668c-1e9b-437d-9402-b0b4b27a1fdf",
   "metadata": {},
   "source": [
    "##### Question 9. Write a Python program to check user password has following: Whether the string contains any uppercase characters. Whether the string contains any lowercase characters. Whether the string contains any spaces. Whether the string contains any special characters (anything other than letters, digits, and spaces)."
   ]
  },
  {
   "cell_type": "code",
   "execution_count": 46,
   "id": "883e529b-18a2-4798-9386-d43dcaa78c79",
   "metadata": {},
   "outputs": [
    {
     "name": "stdin",
     "output_type": "stream",
     "text": [
      "Enter your password:  FAtima @#@#$\n"
     ]
    },
    {
     "name": "stdout",
     "output_type": "stream",
     "text": [
      "Contains uppercase characters: Yes\n",
      "Contains lowercase characters: Yes\n",
      "Contains spaces: Yes\n",
      "Contains special characters: Yes\n"
     ]
    }
   ],
   "source": [
    "import re\n",
    "\n",
    "def check_password(password): \n",
    "    has_upper = any(c.isupper() for c in password)  \n",
    "    has_lower = any(c.islower() for c in password)\n",
    "    has_space = any(c.isspace() for c in password)\n",
    "    has_special = bool(re.search(r'[^A-Za-z0-9 ]', password)) \n",
    "    print(f\"Contains uppercase characters: {'Yes' if has_upper else 'No'}\")\n",
    "    print(f\"Contains lowercase characters: {'Yes' if has_lower else 'No'}\")\n",
    "    print(f\"Contains spaces: {'Yes' if has_space else 'No'}\")\n",
    "    print(f\"Contains special characters: {'Yes' if has_special else 'No'}\")\n",
    " \n",
    "user_password = input(\"Enter your password: \")\n",
    "check_password(user_password)"
   ]
  },
  {
   "cell_type": "markdown",
   "id": "ddbb9508-b179-46aa-961f-d50b12112e66",
   "metadata": {},
   "source": [
    "##### Question 10: Find the Longest Word. Write a Python program that finds the longest word in a given string. Example:Input: \"I love programming in Python\" Output:\"programming\""
   ]
  },
  {
   "cell_type": "code",
   "execution_count": 72,
   "id": "60f6f368-efcf-4484-96c2-702318bfd0aa",
   "metadata": {},
   "outputs": [
    {
     "name": "stdout",
     "output_type": "stream",
     "text": [
      "programming\n"
     ]
    }
   ],
   "source": [
    "word = \"I love programming in Python\"\n",
    "longest = max(word.split(), key=len)\n",
    "print(longest)"
   ]
  }
 ],
 "metadata": {
  "kernelspec": {
   "display_name": "Python 3 (ipykernel)",
   "language": "python",
   "name": "python3"
  },
  "language_info": {
   "codemirror_mode": {
    "name": "ipython",
    "version": 3
   },
   "file_extension": ".py",
   "mimetype": "text/x-python",
   "name": "python",
   "nbconvert_exporter": "python",
   "pygments_lexer": "ipython3",
   "version": "3.12.7"
  }
 },
 "nbformat": 4,
 "nbformat_minor": 5
}
