{
 "cells": [
  {
   "cell_type": "markdown",
   "id": "1ad6228d-38d3-4a1b-a745-ea6d3381011c",
   "metadata": {},
   "source": [
    "### ASSIGNMENT-3"
   ]
  },
  {
   "cell_type": "markdown",
   "id": "ad34937d-0a66-4989-a8e7-fea7b0a55baa",
   "metadata": {},
   "source": [
    "##### Q1. Write program to check a person’s eligibility for a loan based on age, credit score, and income. This time, the eligibility criteria will be: The person must be 18 years or older. The person must have a credit score of 650 or higher. The person must have an annual income of at least 30000 dollars, If the person has a credit score of 700 or higher, they may still be eligible with an income of 25000 dollars or more."
   ]
  },
  {
   "cell_type": "code",
   "execution_count": 3,
   "id": "55eec7fa-c21f-4374-8cf7-207a5100537d",
   "metadata": {},
   "outputs": [
    {
     "name": "stdin",
     "output_type": "stream",
     "text": [
      "enter your age:  18\n",
      "enter your credit score:  25000\n",
      "enter your income:  650\n"
     ]
    },
    {
     "name": "stdout",
     "output_type": "stream",
     "text": [
      "not eligible for loan\n"
     ]
    }
   ],
   "source": [
    "age = int(input(\"enter your age: \"))\n",
    "credit_score = int(input(\"enter your credit score: \"))\n",
    "income = int(input(\"enter your income: \"))\n",
    "\n",
    "if age >= 18:\n",
    "    if credit_score >= 650 and income >= 30000:\n",
    "        print(\"eligible for loan\")\n",
    "    elif credit_score >= 700 and income >= 25000:\n",
    "        print(\"eligible for loan\")\n",
    "    else:\n",
    "        print(\"not eligible for loan\")\n",
    "else:\n",
    "    print(\"not eligible for loan\")\n"
   ]
  },
  {
   "cell_type": "markdown",
   "id": "903a075f-7e2e-46fe-9bd2-2c66165be452",
   "metadata": {},
   "source": [
    "##### Q2. Write a Python program that checks if a person is an adult (age ≥ 18).\n",
    "##### Take the age as input. If the person is underage (age < 18), show message: \"You are underage\" and don't ask for experience. If the person is an adult, take years of experience as input and print: \"You have a lot of experience.\" (10+ years), \"You have moderate experience.\" (5-9 years), \"You are relatively new.\"\" (2-4 years)\", \"You are just starting out.\" (less than 2 years)"
   ]
  },
  {
   "cell_type": "code",
   "execution_count": 5,
   "id": "779de78c-7137-4773-8ad6-561d7a5ebedb",
   "metadata": {},
   "outputs": [
    {
     "name": "stdin",
     "output_type": "stream",
     "text": [
      "enter your age:  17\n"
     ]
    },
    {
     "name": "stdout",
     "output_type": "stream",
     "text": [
      "you are underage\n"
     ]
    }
   ],
   "source": [
    "age = int(input(\"enter your age: \"))\n",
    "if age < 18:\n",
    "    print(\"you are underage\")\n",
    "else: \n",
    "    experience = int(input(\"enter your experience: \"))\n",
    "    if experience >= 10:\n",
    "        print(\"you have a lot of experience\")\n",
    "    elif 5 <= experience < 9:\n",
    "        print(\"you have moderate experience\")\n",
    "    elif 2 <= experience < 5:\n",
    "        print(\"you are realtively new\")\n",
    "    else:\n",
    "        print(\"you are just starting out\")"
   ]
  },
  {
   "cell_type": "markdown",
   "id": "50f46e1e-6e84-402a-af97-986df7b727bf",
   "metadata": {},
   "source": [
    "##### Q3. Write a program to explore below variables (a) Print their memory address (to check if python assigns same address of different variables having same element), (b) Find memory size and append them in a list, use this list to find data type having least memory size, (c) Print final name of data type which has lowest memory, Result will help a programmer to decide which variable is storing less memory and variable locations"
   ]
  },
  {
   "cell_type": "code",
   "execution_count": 71,
   "id": "c1e1e46e-b431-4b6a-9658-c6e91f9ffece",
   "metadata": {},
   "outputs": [
    {
     "name": "stdout",
     "output_type": "stream",
     "text": [
      "2434628358912\n",
      "2434628357632\n",
      "2434628355904\n",
      "2434628357248\n"
     ]
    }
   ],
   "source": [
    "# (a) Print their memory address (to check if python assigns same address of different variables having same element)\n",
    "\n",
    "a = [1,2,3,4,5]\n",
    "b = ['apple','banana','orange']\n",
    "c = [1.2,2.2,3.2]\n",
    "d = ['true','false']\n",
    "memory_sizes = []\n",
    "print(id(a))\n",
    "print(id(b))\n",
    "print(id(c))\n",
    "print(id(d))"
   ]
  },
  {
   "cell_type": "code",
   "execution_count": 73,
   "id": "1cfa942a-df00-43dc-a3af-9519f274ecba",
   "metadata": {},
   "outputs": [
    {
     "name": "stdout",
     "output_type": "stream",
     "text": [
      "104 bytes\n",
      "88 bytes\n",
      "88 bytes\n",
      "72 bytes\n"
     ]
    }
   ],
   "source": [
    "# (b) Find memory size and append them in a list, use this list to find data type having least memory size\n",
    "import sys\n",
    "x = \"bytes\"\n",
    "a = [1,2,3,4,5]\n",
    "b = ['apple','banana','orange']\n",
    "c = [1.2,2.2,3.2]\n",
    "d = ['true','false']\n",
    "\n",
    "print(sys.getsizeof(a),x)\n",
    "print(sys.getsizeof(b),x)\n",
    "print(sys.getsizeof(c),x)\n",
    "print(sys.getsizeof(d),x)"
   ]
  },
  {
   "cell_type": "code",
   "execution_count": 151,
   "id": "b7c45daf-1745-411d-a015-3d5698e659a0",
   "metadata": {},
   "outputs": [
    {
     "name": "stdout",
     "output_type": "stream",
     "text": [
      "Memory sizes list: [104, 88, 88, 72]\n"
     ]
    }
   ],
   "source": [
    "memory_size_of_a = 104  # bytes\n",
    "memory_size_of_b = 88   # bytes\n",
    "memory_size_of_c = 88   # bytes\n",
    "memory_size_of_d = 72   # bytes\n",
    "\n",
    "memory_sizes = []\n",
    "memory_sizes.append(memory_size_of_a)\n",
    "memory_sizes.append(memory_size_of_b)\n",
    "memory_sizes.append(memory_size_of_c)\n",
    "memory_sizes.append(memory_size_of_d)\n",
    "\n",
    "print(\"Memory sizes list:\", memory_sizes)\n"
   ]
  },
  {
   "cell_type": "markdown",
   "id": "01908066-867b-4560-bda2-935311e876da",
   "metadata": {},
   "source": [
    "##### Q4. Write a Python program that asks the user to enter an email address. The program should check if the email contains the characters @ and \".\" (ignoring case). If either character is present, print \"Email format is valid.\" Otherwise, print \"Invalid email format.\""
   ]
  },
  {
   "cell_type": "code",
   "execution_count": 141,
   "id": "6f1a3570-141a-40ed-9d71-51a2707cc7ab",
   "metadata": {},
   "outputs": [
    {
     "name": "stdin",
     "output_type": "stream",
     "text": [
      "Enter your email address:  tayyabashaheen33@gmail.com\n"
     ]
    },
    {
     "name": "stdout",
     "output_type": "stream",
     "text": [
      "Email format is valid.\n"
     ]
    }
   ],
   "source": [
    "\n",
    "email = input(\"Enter your email address: \")\n",
    "\n",
    "# Check if both '@' and '.' are in the email, ignoring case\n",
    "if '@' in email and '.' in email:\n",
    "    print(\"Email format is valid.\")\n",
    "else:\n",
    "    print(\"Invalid email format.\")"
   ]
  },
  {
   "cell_type": "markdown",
   "id": "90735211-b8f1-4d9d-8dc9-471b9541fff6",
   "metadata": {},
   "source": [
    "##### Q5. Write a python program to know data type of each element stored in a tuple, append the data types in a list. Show final output in a list as data types of tuple elements \n",
    "##### x = (11,22.333,'apple',[1,2,3],('a','b'))"
   ]
  },
  {
   "cell_type": "code",
   "execution_count": 138,
   "id": "a287e99d-5a10-4351-b401-3c70070f8f07",
   "metadata": {},
   "outputs": [
    {
     "name": "stdout",
     "output_type": "stream",
     "text": [
      "Data types of tuple elements: ['int', 'float', 'str', 'list', 'tuple']\n"
     ]
    }
   ],
   "source": [
    "x = (11, 22.333, 'apple', [1, 2, 3], ('a', 'b'))\n",
    "\n",
    "# List to store data types\n",
    "data_types = []\n",
    "\n",
    "# Loop through each element in the tuple\n",
    "for element in x:\n",
    "    # Append the type of each element to the data_types list\n",
    "    data_types.append(type(element).__name__)\n",
    "\n",
    "# Output the final list of data types\n",
    "print(\"Data types of tuple elements:\", data_types)"
   ]
  },
  {
   "cell_type": "markdown",
   "id": "6814da54-d882-490a-9868-736fd45aa860",
   "metadata": {},
   "source": [
    "##### Q6. Write a Python program that: \n",
    "##### Checks if a given username exists in a list of active users. \n",
    "##### Verifies if the user is the admin using identity operators. \n",
    "##### Hints: Use a list of tuples where each tuple contains a username and role [(\"alice\", \"admin\"),(\"bob\",\"user\"),(\"charlie\" , \"moderator\")] \n",
    "##### Use the in operator to check if the username exists in the list. \n",
    "##### Use the is operator to check if the user is the admin (admin is a specific reference, e.g., (\"alice\", \"admin\"))."
   ]
  },
  {
   "cell_type": "code",
   "execution_count": 135,
   "id": "1c8d806a-6e7a-4e52-aa2d-9d84c7709c72",
   "metadata": {},
   "outputs": [
    {
     "name": "stdin",
     "output_type": "stream",
     "text": [
      "Enter the username:  alice\n"
     ]
    },
    {
     "name": "stdout",
     "output_type": "stream",
     "text": [
      "alice is not the Admin, they are a admin.\n"
     ]
    }
   ],
   "source": [
    "active_users = [(\"alice\", \"admin\"), (\"bob\", \"user\"), (\"charlie\", \"moderator\")]\n",
    "username = input(\"Enter the username: \")\n",
    "\n",
    "user_found = any(user[0] == username for user in active_users)\n",
    "if user_found:\n",
    "    user_role = next((user[1] for user in active_users if user[0] == username), None)\n",
    "    \n",
    "    admin_user = (\"alice\", \"admin\")\n",
    "    if (username, user_role) is admin_user:\n",
    "        print(f\"{username} is the Admin.\")\n",
    "    else:\n",
    "        print(f\"{username} is not the Admin, they are a {user_role}.\")\n",
    "else:\n",
    "    print(\"User does not exist.\")"
   ]
  },
  {
   "cell_type": "markdown",
   "id": "2e036d4e-5fc5-4305-b675-a2db1d76d34a",
   "metadata": {},
   "source": [
    "##### Q7. person1 has same family as of person2, write a program to print relation between person1 and person2, if their data is ['father name','mother name','district','family number'] same (Print relation 'Siblings') also check person1 data with person3 which is cousin of person1 (Print relation &#39;Cousin&#39;) Hint: Use identity operator"
   ]
  },
  {
   "cell_type": "code",
   "execution_count": 129,
   "id": "391158ce-e23e-442c-989b-fadf407bb95c",
   "metadata": {},
   "outputs": [],
   "source": [
    "person1 = ['Ali', 'Zainab', 'Karachi', '123']\n",
    "person2 = ['Ali', 'Zainab', 'Karachi', '123']\n",
    "person3 = ['Ahmed', 'Bina', 'Karachi', '456']\n",
    "\n",
    "if person1 is person2:\n",
    "    print(\"siblings\")\n"
   ]
  },
  {
   "cell_type": "markdown",
   "id": "3c9e582c-e98b-426c-b72c-04813da374a3",
   "metadata": {},
   "source": [
    "##### Q8. Write a Python program to store and display a book's title, author, year of publication, and price using a tuple. Instructions: Create a tuple to store the book details, Ask the user for the book's title, author, year, and price, Display the stored book information."
   ]
  },
  {
   "cell_type": "code",
   "execution_count": 127,
   "id": "0d17229e-50e3-411b-a557-dff99bdf7031",
   "metadata": {},
   "outputs": [
    {
     "name": "stdin",
     "output_type": "stream",
     "text": [
      "Enter the book title:  it ends with us\n",
      "Enter the author's name:  coollen hoover\n",
      "Enter the year of publication:  2016\n",
      "Enter the price of the book:  188.5\n"
     ]
    },
    {
     "name": "stdout",
     "output_type": "stream",
     "text": [
      "\n",
      "Book Details:\n",
      "Title: it ends with us\n",
      "Author: coollen hoover\n",
      "Year of Publication: 2016\n",
      "Price: 188.5\n"
     ]
    }
   ],
   "source": [
    "\n",
    "book_title = input(\"Enter the book title: \")\n",
    "author_of_book = input(\"Enter the author's name: \")\n",
    "year_of_publication = int(input(\"Enter the year of publication: \"))\n",
    "book_price = float(input(\"Enter the price of the book: \"))\n",
    "\n",
    "book_details = (book_title, author_of_book, year_of_publication, book_price)\n",
    "print(\"\\nBook Details:\")\n",
    "print(f\"Title: {book_details[0]}\")\n",
    "print(f\"Author: {book_details[1]}\")\n",
    "print(f\"Year of Publication: {book_details[2]}\")\n",
    "print(f\"Price: {book_details[3]}\") \n"
   ]
  },
  {
   "cell_type": "markdown",
   "id": "f49ced6f-4823-47fd-9d81-0d946a0011cb",
   "metadata": {},
   "source": [
    "##### Q9. Write a program to check if a user’s chosen subject is available in the list of offered subjects. Instructions: Given a list of subjects, ask the user to input a subject, Display whether the subject is available or not."
   ]
  },
  {
   "cell_type": "code",
   "execution_count": 93,
   "id": "07d7419e-2454-4894-b40d-3a8c488f7409",
   "metadata": {},
   "outputs": [
    {
     "name": "stdin",
     "output_type": "stream",
     "text": [
      "enter your chosen subject:  commerce\n"
     ]
    },
    {
     "name": "stdout",
     "output_type": "stream",
     "text": [
      "subject is available\n"
     ]
    }
   ],
   "source": [
    "subjects = ['commerce','economics','business','accounts']\n",
    "user_subject = input(\"enter your chosen subject: \")\n",
    "if user_subject in subjects:\n",
    "    print(\"subject is available\")\n",
    "else:\n",
    "    print(\"subject is not available\")"
   ]
  },
  {
   "cell_type": "markdown",
   "id": "8e4a398b-ed1e-4a25-a23f-3d3319c941d6",
   "metadata": {},
   "source": [
    "##### Q10. Write a Python program that performs the following tasks using tuple methods. Create a tuple with multiple integer values, including duplicates. Prompt the user to input a number and find the index of its first occurrence in the tuple. Ask the user for another number and count how many times it appears in the tuple. Display appropriate messages based on the results"
   ]
  },
  {
   "cell_type": "code",
   "execution_count": 97,
   "id": "8180c642-6e19-46c5-81b9-8f424ad4c9f7",
   "metadata": {},
   "outputs": [
    {
     "name": "stdin",
     "output_type": "stream",
     "text": [
      "input a number:  22\n"
     ]
    },
    {
     "name": "stdout",
     "output_type": "stream",
     "text": [
      "the number 22 first occurs at:2\n"
     ]
    }
   ],
   "source": [
    "x = int(input(\"input a number: \"))\n",
    "tuple = (1,2,22,33,40,2,1,33,40,75)\n",
    "if x in tuple:\n",
    "    index = tuple.index(x)\n",
    "    print(f\"the number {x} first occurs at:{index}\")\n",
    "else:\n",
    "    print(f\"the number {x} is not found in tuple\")"
   ]
  },
  {
   "cell_type": "code",
   "execution_count": 91,
   "id": "d95fa657-8542-420c-b2f8-60d88fadab48",
   "metadata": {},
   "outputs": [
    {
     "name": "stdin",
     "output_type": "stream",
     "text": [
      "input a number:  40\n"
     ]
    },
    {
     "name": "stdout",
     "output_type": "stream",
     "text": [
      "the number 40 appears 2 times in tuple\n"
     ]
    }
   ],
   "source": [
    "x = int(input(\"input a number: \"))\n",
    "tuple = (1,2,22,33,40,2,1,33,40,75)\n",
    "count = tuple.count(x)\n",
    "if count > 0:\n",
    "    print(f\"the number {x} appears {count} times in tuple\")\n",
    "else:\n",
    "    print(f\"the {x} is not in tuple\")"
   ]
  },
  {
   "cell_type": "markdown",
   "id": "15cd8433-cd7d-4878-a717-8f90a5e31259",
   "metadata": {},
   "source": [
    "##### Question for Hard working learners (Not Mandatory) Write a Python program that asks the user to enter the current temperature in Celsius and checks whether it's freezing, normal, or hot based on predefined temperature values.\" Assignment Requirements: Input: The user will be asked to enter the current temperature in Celsius. Predefined values: Freezing: -5 , Normal: 25 , Hot: 40"
   ]
  },
  {
   "cell_type": "code",
   "execution_count": 145,
   "id": "5cedb5a6-32b3-4658-925b-58059049ac61",
   "metadata": {},
   "outputs": [
    {
     "name": "stdin",
     "output_type": "stream",
     "text": [
      "Enter the current temperature in Celsius:  -7\n"
     ]
    },
    {
     "name": "stdout",
     "output_type": "stream",
     "text": [
      "It's freezing.\n"
     ]
    }
   ],
   "source": [
    "# Predefined temperature values\n",
    "freezing_temp = -5\n",
    "normal_temp = 25\n",
    "hot_temp = 40\n",
    "\n",
    "current_temp = float(input(\"Enter the current temperature in Celsius: \"))\n",
    "\n",
    "if current_temp <= freezing_temp:\n",
    "    print(\"It's freezing.\")\n",
    "elif freezing_temp < current_temp < normal_temp:\n",
    "    print(\"The temperature is normal.\")\n",
    "elif normal_temp <= current_temp < hot_temp:\n",
    "    print(\"The temperature is normal.\")\n",
    "else:\n",
    "    print(\"It's hot.\")"
   ]
  },
  {
   "cell_type": "code",
   "execution_count": null,
   "id": "2e69651f-71b0-4ac7-a5f3-a6c842531414",
   "metadata": {},
   "outputs": [],
   "source": []
  },
  {
   "cell_type": "code",
   "execution_count": null,
   "id": "4fc2631e-d753-47e7-85fe-ff5b62b3b6af",
   "metadata": {},
   "outputs": [],
   "source": []
  }
 ],
 "metadata": {
  "kernelspec": {
   "display_name": "Python 3 (ipykernel)",
   "language": "python",
   "name": "python3"
  },
  "language_info": {
   "codemirror_mode": {
    "name": "ipython",
    "version": 3
   },
   "file_extension": ".py",
   "mimetype": "text/x-python",
   "name": "python",
   "nbconvert_exporter": "python",
   "pygments_lexer": "ipython3",
   "version": "3.12.7"
  }
 },
 "nbformat": 4,
 "nbformat_minor": 5
}
