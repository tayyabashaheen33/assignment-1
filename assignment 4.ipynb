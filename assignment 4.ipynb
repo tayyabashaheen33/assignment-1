{
 "cells": [
  {
   "cell_type": "markdown",
   "id": "782361b0-729e-40f2-a6da-3c54b59005cf",
   "metadata": {},
   "source": [
    "## ASSIGNMENT 4"
   ]
  },
  {
   "cell_type": "markdown",
   "id": "fd8bfa37-193a-47cf-904d-a334aeee0e63",
   "metadata": {},
   "source": [
    "##### Q1. my_tuple = ( (1, 2, 3), [4, 5, 6], ('apple','banana','cherry'), [7, 8, 9] )\n",
    "##### • Print all elements from my_tuple on a new line (using for loop)\n",
    "##### • Create a new tuple by concatenating the first and last elements of my_tuple"
   ]
  },
  {
   "cell_type": "code",
   "execution_count": 3,
   "id": "41edc86e-b26c-480e-9153-23256a72fe03",
   "metadata": {},
   "outputs": [
    {
     "data": {
      "text/plain": [
       "((1, 2, 3), [4, 5, 6], ('apple', 'banana', 'cherry'), [7, 8, 9])"
      ]
     },
     "execution_count": 3,
     "metadata": {},
     "output_type": "execute_result"
    }
   ],
   "source": [
    "my_tuple = ((1,2,3),[4,5,6],('apple','banana','cherry'),[7,8,9])\n",
    "my_tuple"
   ]
  },
  {
   "cell_type": "code",
   "execution_count": 4,
   "id": "52ea0d7f-6de3-4892-89a0-92b521a8c093",
   "metadata": {},
   "outputs": [
    {
     "name": "stdout",
     "output_type": "stream",
     "text": [
      "(1, 2, 3)\n",
      "[4, 5, 6]\n",
      "('apple', 'banana', 'cherry')\n",
      "[7, 8, 9]\n"
     ]
    }
   ],
   "source": [
    "for elements in my_tuple:\n",
    "    print(elements)"
   ]
  },
  {
   "cell_type": "code",
   "execution_count": 5,
   "id": "edda7f86-c49b-4b81-a17f-9e9ca7e1d34f",
   "metadata": {},
   "outputs": [
    {
     "name": "stdout",
     "output_type": "stream",
     "text": [
      "(1, 2, 3, 7, 8, 9)\n"
     ]
    }
   ],
   "source": [
    "new_tuple = my_tuple[0] + tuple(my_tuple[3])\n",
    "print(new_tuple)"
   ]
  },
  {
   "cell_type": "markdown",
   "id": "74da8eeb-eebe-4be9-9387-966766a8ba20",
   "metadata": {},
   "source": [
    "##### Q2. inventory = { \"The Great Gatsby\":{\"price\": 10.99, \"quantity\": 5},\"Rich dad poor dad\":{\"price\":8.99,\"quantity\":8},\"Harry Potter\":{\"price\": 12.50,\"quantity\": 2},}\n",
    "##### • Add a new book in inventory using method and get all book titles using method\n",
    "##### • Remove a book if its out of stock"
   ]
  },
  {
   "cell_type": "code",
   "execution_count": 7,
   "id": "4e5c313f-4e82-4752-84e3-669d9a93cfb3",
   "metadata": {},
   "outputs": [
    {
     "data": {
      "text/plain": [
       "{'The Great Gatsby': {'price': 10.99, 'quantity': 5},\n",
       " 'Rich Dad Poor Dad': {'price': 8.99, 'quantity': 8},\n",
       " 'Harry Potter': {'price': 12.5, 'quantity': 2}}"
      ]
     },
     "execution_count": 7,
     "metadata": {},
     "output_type": "execute_result"
    }
   ],
   "source": [
    "inventory = {\n",
    "    \"The Great Gatsby\": {\"price\": 10.99, \"quantity\": 5},\n",
    "    \"Rich Dad Poor Dad\": {\"price\": 8.99, \"quantity\": 8},\n",
    "    \"Harry Potter\": {\"price\": 12.50, \"quantity\": 2},\n",
    "}\n",
    "inventory"
   ]
  },
  {
   "cell_type": "code",
   "execution_count": 8,
   "id": "e3bb692e-e3e7-43ce-806a-eac9b3176cf7",
   "metadata": {},
   "outputs": [
    {
     "name": "stdout",
     "output_type": "stream",
     "text": [
      "{'The Great Gatsby': {'price': 10.99, 'quantity': 5}, 'Rich Dad Poor Dad': {'price': 8.99, 'quantity': 8}, 'Harry Potter': {'price': 12.5, 'quantity': 2}, 'Tale of Two Cities': {'price': 11.22, 'quantity': 4}}\n"
     ]
    }
   ],
   "source": [
    "inventory.update(\n",
    "    {'Tale of Two Cities' : {'price': 11.22 , 'quantity': 4}\n",
    "    }\n",
    ")\n",
    "print(inventory)"
   ]
  },
  {
   "cell_type": "code",
   "execution_count": 9,
   "id": "e6663ed8-3538-47a1-b7cc-109610ba77a5",
   "metadata": {},
   "outputs": [
    {
     "data": {
      "text/plain": [
       "dict_keys(['The Great Gatsby', 'Rich Dad Poor Dad', 'Harry Potter', 'Tale of Two Cities'])"
      ]
     },
     "execution_count": 9,
     "metadata": {},
     "output_type": "execute_result"
    }
   ],
   "source": [
    "inventory.keys()"
   ]
  },
  {
   "cell_type": "code",
   "execution_count": 10,
   "id": "6bc28e54-1c23-48c3-abd1-abbbd04b52ff",
   "metadata": {},
   "outputs": [
    {
     "name": "stdout",
     "output_type": "stream",
     "text": [
      "inventory:\n"
     ]
    }
   ],
   "source": [
    "def remove_out_of_stock_books():\n",
    "    books_to_remove = [title for title, details in inventory.items() if details[\"quantity\"] <= 0]\n",
    "    for title in books_to_remove:\n",
    "        del inventory[title]\n",
    "\n",
    "print(\"inventory:\")"
   ]
  },
  {
   "cell_type": "markdown",
   "id": "f78214a2-95b0-4fbe-a6ab-df3a58d2ab3a",
   "metadata": {},
   "source": [
    "##### Q3. An ecommerce store stores information about its products in a nested dictionary. The outer dictionary uses product IDs as keys, and the inner dictionary stores product details like name, category, price, and stock quantity.\n",
    "##### products = { 101: {\"name\": \"Laptop\", \"category\": \"Electronics\",\"price\":1200,\"stock\": 50}, 102:{\"name\":\"Shirt\", \"category\":\"Apparel\",\"price\": 25,\"stock\": 200}, 103: {\"name\":\"Coffee Maker\",\"category\": \"Home Appliances\", \"price\": 80, \"stock\": 30} }\n",
    "##### • Increase the stock of the \"Shirt\" product (add 50 more units)\n",
    "##### • Add a new product (e.g.\"Smartphone\")"
   ]
  },
  {
   "cell_type": "code",
   "execution_count": 30,
   "id": "2ce144d7-f17c-467f-b1b6-93e5f3fd09d1",
   "metadata": {},
   "outputs": [
    {
     "data": {
      "text/plain": [
       "{101: {'name': 'Laptop',\n",
       "  'category': 'Electronics',\n",
       "  'price': 1200,\n",
       "  'stock': 50},\n",
       " 102: {'name': 'Shirt', 'category': 'Apparel', 'price': 25, 'stock': 200},\n",
       " 103: {'name': 'Coffee Maker',\n",
       "  'category': 'Home Appliances',\n",
       "  'price': 80,\n",
       "  'stock': 30}}"
      ]
     },
     "execution_count": 30,
     "metadata": {},
     "output_type": "execute_result"
    }
   ],
   "source": [
    "nested_products_dictionary = {\n",
    "    101:{'name':'Laptop','category':'Electronics','price':1200,'stock':50},\n",
    "    102:{'name':'Shirt','category':'Apparel','price':25,'stock':200},\n",
    "    103:{'name':'Coffee Maker','category':'Home Appliances','price':80,'stock':30}\n",
    "}\n",
    "nested_products_dictionary"
   ]
  },
  {
   "cell_type": "code",
   "execution_count": 34,
   "id": "8d954676-2346-4666-9674-98595afd86eb",
   "metadata": {},
   "outputs": [
    {
     "data": {
      "text/plain": [
       "200"
      ]
     },
     "execution_count": 34,
     "metadata": {},
     "output_type": "execute_result"
    }
   ],
   "source": [
    "nested_products_dictionary[102]['stock']"
   ]
  },
  {
   "cell_type": "code",
   "execution_count": 36,
   "id": "9128ec85-fa3b-4542-acc4-ac79e1c13377",
   "metadata": {},
   "outputs": [
    {
     "data": {
      "text/plain": [
       "{101: {'name': 'Laptop',\n",
       "  'category': 'Electronics',\n",
       "  'price': 1200,\n",
       "  'stock': 50},\n",
       " 102: {'name': 'Shirt', 'category': 'Apparel', 'price': 25, 'stock': 250},\n",
       " 103: {'name': 'Coffee Maker',\n",
       "  'category': 'Home Appliances',\n",
       "  'price': 80,\n",
       "  'stock': 30}}"
      ]
     },
     "execution_count": 36,
     "metadata": {},
     "output_type": "execute_result"
    }
   ],
   "source": [
    "nested_products_dictionary[102]['stock'] = 250\n",
    "nested_products_dictionary"
   ]
  },
  {
   "cell_type": "code",
   "execution_count": 40,
   "id": "1d324254-6a50-45ac-b5a1-63e9cdd9f6ef",
   "metadata": {},
   "outputs": [
    {
     "name": "stdout",
     "output_type": "stream",
     "text": [
      "{101: {'name': 'Laptop', 'category': 'Electronics', 'price': 1200, 'stock': 50}, 102: {'name': 'Shirt', 'category': 'Apparel', 'price': 25, 'stock': 250}, 103: {'name': 'Coffee Maker', 'category': 'Home Appliances', 'price': 80, 'stock': 30}, 104: {'name': 'Smartphone', 'category': 'electronics', 'price': 2000, 'quantity': 120}}\n"
     ]
    }
   ],
   "source": [
    "nested_products_dictionary.update({\n",
    "    104:{'name':'Smartphone','category':'electronics','price': 2000 ,'quantity': 120}\n",
    "    }\n",
    ")\n",
    "print(nested_products_dictionary)"
   ]
  },
  {
   "cell_type": "markdown",
   "id": "92d00231-79ef-4ddf-b82a-ce1260067d52",
   "metadata": {},
   "source": [
    "##### Q4. You are given a list that contains some duplicate items. Remove the duplicates by converting the list to a set. shopping_list = ['apple','banana','apple','orange','banana','grape']"
   ]
  },
  {
   "cell_type": "code",
   "execution_count": 43,
   "id": "0a193586-6f87-4b97-b3de-67f6d37ef4bb",
   "metadata": {},
   "outputs": [
    {
     "data": {
      "text/plain": [
       "['apple', 'banana', 'apple', 'orange', 'banana', 'grape']"
      ]
     },
     "execution_count": 43,
     "metadata": {},
     "output_type": "execute_result"
    }
   ],
   "source": [
    "shopping_list = ['apple','banana','apple','orange','banana','grape']\n",
    "shopping_list"
   ]
  },
  {
   "cell_type": "code",
   "execution_count": 47,
   "id": "7ab6f120-d34a-47b6-a3a3-1ffbbaf965e1",
   "metadata": {},
   "outputs": [
    {
     "data": {
      "text/plain": [
       "{'apple', 'banana', 'grape', 'orange'}"
      ]
     },
     "execution_count": 47,
     "metadata": {},
     "output_type": "execute_result"
    }
   ],
   "source": [
    "shopping_list_into_set = set(shopping_list)\n",
    "shopping_list_into_set"
   ]
  },
  {
   "cell_type": "markdown",
   "id": "cb32781a-3fde-41f3-8b26-f042da682059",
   "metadata": {},
   "source": [
    "##### Q5. You are managing a list of students enrolled in two different courses. You need to perform various set operations to understand the student enrollment. Task: Create two sets: one for students in 'Course A' and one for students in 'Course B'. Find the students who are in 'Course A' but not in'Course B'(difference). Find students who are only in one of the two courses (symmetric difference).\n",
    "##### course_a = {'John','Alice','Bob','David'} course_b = {'Alice','Eve','Charlie','David'}\n",
    "##### • Find students who are in Course A but not in Course B (difference)\n",
    "##### • Find students who are only in one of the two courses (symmetric difference)"
   ]
  },
  {
   "cell_type": "code",
   "execution_count": 54,
   "id": "958c3a7b-2a60-4cc8-9f5c-edade54ca1f0",
   "metadata": {},
   "outputs": [
    {
     "data": {
      "text/plain": [
       "{'Alice', 'Bob', 'David', 'John'}"
      ]
     },
     "execution_count": 54,
     "metadata": {},
     "output_type": "execute_result"
    }
   ],
   "source": [
    "course_a = {'John','Alice','Bob','David'}\n",
    "course_a"
   ]
  },
  {
   "cell_type": "code",
   "execution_count": 56,
   "id": "7e7646af-6179-499c-826f-b34b4427fa2e",
   "metadata": {},
   "outputs": [
    {
     "data": {
      "text/plain": [
       "{'Alice', 'Charlie', 'David', 'Eve'}"
      ]
     },
     "execution_count": 56,
     "metadata": {},
     "output_type": "execute_result"
    }
   ],
   "source": [
    "course_b = {'Alice','Eve','Charlie','David'}\n",
    "course_b"
   ]
  },
  {
   "cell_type": "code",
   "execution_count": 58,
   "id": "27a77c32-3e8c-4fdd-8c5c-e1d243095265",
   "metadata": {},
   "outputs": [
    {
     "name": "stdout",
     "output_type": "stream",
     "text": [
      "{'Bob', 'John'}\n"
     ]
    }
   ],
   "source": [
    "difference_set = course_a - course_b\n",
    "print(difference_set)"
   ]
  },
  {
   "cell_type": "code",
   "execution_count": 60,
   "id": "d175fe99-01df-4e7a-8e38-2478aef44209",
   "metadata": {},
   "outputs": [
    {
     "name": "stdout",
     "output_type": "stream",
     "text": [
      "{'John', 'Charlie', 'Bob', 'Eve'}\n"
     ]
    }
   ],
   "source": [
    "sym_diff_set = course_a ^ course_b\n",
    "print(sym_diff_set)"
   ]
  },
  {
   "cell_type": "markdown",
   "id": "230bd524-15ba-4c1a-b349-a143a4f590ee",
   "metadata": {},
   "source": [
    "##### Q6. Write a Python program that calculates the sum of all even numbers between 1 and 50 (inclusive) using a for loop. Hint: 1. Initialize a variable to hold the sum (e.g., sum_of_evens). 2. Use a for loop to iterate through all numbers from 1 to 50.3. Inside the loop, check if the number is even. 4. If the number is even, add it to sum_of_evens. 5. After the loop finishes, print the total sum of all even numbers between 1 and 50."
   ]
  },
  {
   "cell_type": "code",
   "execution_count": 65,
   "id": "2116c2ea-6540-4d2e-b117-6db288adc1b0",
   "metadata": {},
   "outputs": [
    {
     "name": "stdout",
     "output_type": "stream",
     "text": [
      "The sum of all even numbers between 1 and 50 is: 650\n"
     ]
    }
   ],
   "source": [
    "sum_of_evens = 0\n",
    "for number in range(1, 51):\n",
    "    if number % 2 == 0:\n",
    "        sum_of_evens += number\n",
    "print(\"The sum of all even numbers between 1 and 50 is:\",sum_of_evens)"
   ]
  },
  {
   "cell_type": "markdown",
   "id": "f5afef68-d6c1-45f2-89fd-e6e47f5b47c3",
   "metadata": {},
   "source": [
    "##### Q7. Write a Python program that prints the multiplication table for a given number (between 1 and 10) using a for loop. Hint:(1) Ask the user for a number between 1 and 10 . (2) Use a for loop to iterate through the numbers from 1 to 10. (3) For each iteration, calculate the product of the given number and the current number in the loop. (4) Print the result in a readable format (e.g., 5 x 1 = 5). (5) Ensure the program works correctly for any number between 1 and 10."
   ]
  },
  {
   "cell_type": "code",
   "execution_count": 70,
   "id": "d940bd76-efb6-4d77-9d5c-cd82b2105e1d",
   "metadata": {},
   "outputs": [
    {
     "name": "stdout",
     "output_type": "stream",
     "text": [
      "5 * 1 = 5\n",
      "5 * 2 = 10\n",
      "5 * 3 = 15\n",
      "5 * 4 = 20\n",
      "5 * 5 = 25\n",
      "5 * 6 = 30\n",
      "5 * 7 = 35\n",
      "5 * 8 = 40\n",
      "5 * 9 = 45\n",
      "5 * 10 = 50\n"
     ]
    }
   ],
   "source": [
    "for i in range(5,51,5):\n",
    "    print(f\"5 * {i//5} = {i}\")"
   ]
  },
  {
   "cell_type": "markdown",
   "id": "1550d411-eab2-4509-8427-2b6213c1a9d6",
   "metadata": {},
   "source": [
    "##### Q8. Power of a Number. Write a Python program that takes a number and prints the powers of the number (starting from 1 to 10) using a while loop. For example, if the user inputs 3, the output should be: 3^1 = 3, 3^2 = 9, 3^3 = 27, ... up to 3^10."
   ]
  },
  {
   "cell_type": "code",
   "execution_count": 73,
   "id": "c5a7a5e7-a8e0-45fa-b013-f6836cb09382",
   "metadata": {},
   "outputs": [
    {
     "name": "stdin",
     "output_type": "stream",
     "text": [
      "Enter a number:  4\n"
     ]
    },
    {
     "name": "stdout",
     "output_type": "stream",
     "text": [
      "4^1 = 4\n",
      "4^2 = 16\n",
      "4^3 = 64\n",
      "4^4 = 256\n",
      "4^5 = 1024\n",
      "4^6 = 4096\n",
      "4^7 = 16384\n",
      "4^8 = 65536\n",
      "4^9 = 262144\n",
      "4^10 = 1048576\n"
     ]
    }
   ],
   "source": [
    "number = int(input(\"Enter a number: \"))\n",
    "exponent = 1\n",
    "while exponent <= 10:\n",
    "    power = number ** exponent\n",
    "    print(f\"{number}^{exponent} = {power}\")\n",
    "    exponent += 1"
   ]
  },
  {
   "cell_type": "markdown",
   "id": "a58ce3af-e9bb-4450-8b0a-7de092290e8f",
   "metadata": {},
   "source": [
    "##### Q9. Problem Statement: Write a Python program that takes an integer input from the user and counts down from that number to 0. The program should display the current number at each step until it reaches 0, at which point it should print a message indicating the countdown is finished\n",
    "##### Output Hint:Enter a number to start the countdown:\n",
    "##### 3\n",
    "##### 2\n",
    "##### 1\n",
    "##### 0\n",
    "##### Countdown finished!"
   ]
  },
  {
   "cell_type": "code",
   "execution_count": 81,
   "id": "d65d0744-e14d-4d46-b532-5753bae4b8dd",
   "metadata": {},
   "outputs": [
    {
     "name": "stdin",
     "output_type": "stream",
     "text": [
      "Enter a number to start the countdown:  8\n"
     ]
    },
    {
     "name": "stdout",
     "output_type": "stream",
     "text": [
      "8\n",
      "7\n",
      "6\n",
      "5\n",
      "4\n",
      "3\n",
      "2\n",
      "1\n",
      "0\n",
      "Countdown finished!\n"
     ]
    }
   ],
   "source": [
    "number = int(input(\"Enter a number to start the countdown: \"))\n",
    "while number >= 0:\n",
    "    print(number)\n",
    "    number -= 1   \n",
    "print(\"Countdown finished!\")"
   ]
  },
  {
   "cell_type": "markdown",
   "id": "4d68c725-1efa-48ba-8981-b7b9b2c5ebec",
   "metadata": {},
   "source": [
    "##### Q10. Write a Python program that takes an integer input n from the user and generates a right-angled triangle pattern of stars (*) with n rows. The first row should contain 1 star, the second row 2 stars, the third row 3 stars, and so on until the nth row. Ensure the stars in each row are separated by spaces, and each row starts on a new line.\n",
    "##### Pattern:\n",
    "##### *\n",
    "##### **\n",
    "##### ***\n",
    "##### ****\n",
    "##### *****"
   ]
  },
  {
   "cell_type": "code",
   "execution_count": 89,
   "id": "8f70d723-8c81-4ed1-99b5-8303e38821a8",
   "metadata": {},
   "outputs": [
    {
     "name": "stdin",
     "output_type": "stream",
     "text": [
      "Enter the number of rows for the triangle:  7\n"
     ]
    },
    {
     "name": "stdout",
     "output_type": "stream",
     "text": [
      "* \n",
      "* * \n",
      "* * * \n",
      "* * * * \n",
      "* * * * * \n",
      "* * * * * * \n",
      "* * * * * * * \n"
     ]
    }
   ],
   "source": [
    "n = int(input(\"Enter the number of rows for the triangle: \"))\n",
    "for i in range(1, n + 1):\n",
    "    print('* ' * i)"
   ]
  },
  {
   "cell_type": "code",
   "execution_count": null,
   "id": "b23ea2ce-3644-4919-a752-f1042c294774",
   "metadata": {},
   "outputs": [],
   "source": []
  },
  {
   "cell_type": "code",
   "execution_count": null,
   "id": "58e58521-4bda-4516-9e88-8dff79522881",
   "metadata": {},
   "outputs": [],
   "source": []
  },
  {
   "cell_type": "code",
   "execution_count": null,
   "id": "0713fc5c-3e59-499d-a968-e8bf2c3ce2cc",
   "metadata": {},
   "outputs": [],
   "source": []
  },
  {
   "cell_type": "code",
   "execution_count": null,
   "id": "775a4f96-f820-4e5d-8720-a9e39f1cc22a",
   "metadata": {},
   "outputs": [],
   "source": []
  },
  {
   "cell_type": "code",
   "execution_count": null,
   "id": "99f0ca0a-8fad-4015-9de7-3614c41e9ad3",
   "metadata": {},
   "outputs": [],
   "source": []
  },
  {
   "cell_type": "code",
   "execution_count": null,
   "id": "f5f6d11a-fb36-47a3-9b67-35b2bfe95096",
   "metadata": {},
   "outputs": [],
   "source": []
  },
  {
   "cell_type": "code",
   "execution_count": null,
   "id": "6d1e3722-5549-4ef9-9fea-dc91a38c34ca",
   "metadata": {},
   "outputs": [],
   "source": []
  }
 ],
 "metadata": {
  "kernelspec": {
   "display_name": "Python 3 (ipykernel)",
   "language": "python",
   "name": "python3"
  },
  "language_info": {
   "codemirror_mode": {
    "name": "ipython",
    "version": 3
   },
   "file_extension": ".py",
   "mimetype": "text/x-python",
   "name": "python",
   "nbconvert_exporter": "python",
   "pygments_lexer": "ipython3",
   "version": "3.12.7"
  }
 },
 "nbformat": 4,
 "nbformat_minor": 5
}
