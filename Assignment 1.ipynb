{
 "cells": [
  {
   "cell_type": "markdown",
   "id": "3b71e0a7-aab6-4b04-b77e-270914198106",
   "metadata": {},
   "source": [
    "### Assignment 1"
   ]
  },
  {
   "cell_type": "code",
   "execution_count": 4,
   "id": "27db5d9f-3059-4e11-aa5e-b9736fb9c893",
   "metadata": {},
   "outputs": [],
   "source": [
    "salaries = ['20k', '40k', '50k', '60k', '35k', '89k', '40k']"
   ]
  },
  {
   "cell_type": "code",
   "execution_count": 6,
   "id": "93c225d5-1505-4b35-b388-2aa0ad2acdb8",
   "metadata": {},
   "outputs": [
    {
     "data": {
      "text/plain": [
       "['20k', '40k', '50k', '60k', '35k', '89k', '40k']"
      ]
     },
     "execution_count": 6,
     "metadata": {},
     "output_type": "execute_result"
    }
   ],
   "source": [
    "salaries"
   ]
  },
  {
   "cell_type": "markdown",
   "id": "a54abbf2-c308-4ade-bdce-74723ac43c4c",
   "metadata": {},
   "source": [
    "#### 1. What is the length of the salaries list."
   ]
  },
  {
   "cell_type": "code",
   "execution_count": 10,
   "id": "21641f77-bf46-4850-b903-01074df1c851",
   "metadata": {},
   "outputs": [
    {
     "data": {
      "text/plain": [
       "7"
      ]
     },
     "execution_count": 10,
     "metadata": {},
     "output_type": "execute_result"
    }
   ],
   "source": [
    "len(salaries)"
   ]
  },
  {
   "cell_type": "markdown",
   "id": "a8304b44-c1db-4aaa-9f3a-b08d5eb390ea",
   "metadata": {},
   "source": [
    "#### 2. Retrieve the third salary in the list by using index."
   ]
  },
  {
   "cell_type": "code",
   "execution_count": 12,
   "id": "39cfb214-a3df-46fd-8579-1d8e49b838d5",
   "metadata": {},
   "outputs": [
    {
     "data": {
      "text/plain": [
       "'60k'"
      ]
     },
     "execution_count": 12,
     "metadata": {},
     "output_type": "execute_result"
    }
   ],
   "source": [
    "salaries[3]"
   ]
  },
  {
   "cell_type": "markdown",
   "id": "c7a81b0d-bb0a-4993-911c-329c671b255a",
   "metadata": {},
   "source": [
    "#### 3. Extract the last salary from the list by using a negative index."
   ]
  },
  {
   "cell_type": "code",
   "execution_count": 14,
   "id": "d5ea18df-8c4a-4c69-9687-e56853cd13f3",
   "metadata": {},
   "outputs": [
    {
     "data": {
      "text/plain": [
       "'40k'"
      ]
     },
     "execution_count": 14,
     "metadata": {},
     "output_type": "execute_result"
    }
   ],
   "source": [
    "salaries[-1]"
   ]
  },
  {
   "cell_type": "markdown",
   "id": "334f2f41-2c0b-473e-b6a2-19ea50323535",
   "metadata": {},
   "source": [
    "#### 4. Slice the salaries list to get only the middle three salaries."
   ]
  },
  {
   "cell_type": "code",
   "execution_count": 16,
   "id": "b129aa27-223f-4350-a4bd-2d377eb0a80c",
   "metadata": {},
   "outputs": [
    {
     "data": {
      "text/plain": [
       "['50k', '60k', '35k']"
      ]
     },
     "execution_count": 16,
     "metadata": {},
     "output_type": "execute_result"
    }
   ],
   "source": [
    "salaries[2:5]"
   ]
  },
  {
   "cell_type": "markdown",
   "id": "eb8c6dad-506a-4493-bf31-c341ed623e4b",
   "metadata": {},
   "source": [
    "#### 5. Add a new salary to the list, ‘100k’ by using append() method."
   ]
  },
  {
   "cell_type": "code",
   "execution_count": 54,
   "id": "10f0248f-a89f-47e1-af76-290e5feb5fae",
   "metadata": {},
   "outputs": [
    {
     "name": "stdout",
     "output_type": "stream",
     "text": [
      "['20k', '40k', '50k', '60k', '35k', '89k', '40k', '100k']\n"
     ]
    }
   ],
   "source": [
    "salaries = ['20k', '40k', '50k', '60k', '35k', '89k', '40k']\n",
    "salaries.append('100k')\n",
    "print(salaries)"
   ]
  },
  {
   "cell_type": "markdown",
   "id": "2026862e-e1a4-457f-bb32-edd996e93114",
   "metadata": {},
   "source": [
    "#### 5. Add a new salary to the list, ‘120k’ without method."
   ]
  },
  {
   "cell_type": "code",
   "execution_count": 60,
   "id": "7903585b-321b-40e5-b2ad-48fd72cd10cf",
   "metadata": {},
   "outputs": [
    {
     "data": {
      "text/plain": [
       "['20k', '40k', '50k', '60k', '35k', '89k', '40k', '100k', '120k']"
      ]
     },
     "execution_count": 60,
     "metadata": {},
     "output_type": "execute_result"
    }
   ],
   "source": [
    "salaries = ['20k', '40k', '50k', '60k', '35k', '89k', '40k', '100k']\n",
    "salaries = salaries + ['120k']\n",
    "salaries"
   ]
  },
  {
   "cell_type": "markdown",
   "id": "db47035f-ee8e-4dc7-8ba9-968dce0fbf4d",
   "metadata": {},
   "source": [
    "#### 6. Replace the third salary in the list with '55k' and print the updated list."
   ]
  },
  {
   "cell_type": "code",
   "execution_count": 71,
   "id": "d8bc032d-85a8-4df8-853f-3cced47a4626",
   "metadata": {},
   "outputs": [
    {
     "data": {
      "text/plain": [
       "['20k', '40k', '55k', '60k', '35k', '89k', '40k', '100k', '120k']"
      ]
     },
     "execution_count": 71,
     "metadata": {},
     "output_type": "execute_result"
    }
   ],
   "source": [
    "salaries[2] = '55k'\n",
    "salaries"
   ]
  },
  {
   "cell_type": "markdown",
   "id": "7f1dae13-0d95-4086-9d4b-d32faabb6f5f",
   "metadata": {},
   "source": [
    "#### 7. Count how many times '40k' appears in the list."
   ]
  },
  {
   "cell_type": "code",
   "execution_count": 62,
   "id": "e4e0fc29-a398-48b5-9677-8d56bae6b111",
   "metadata": {},
   "outputs": [
    {
     "data": {
      "text/plain": [
       "2"
      ]
     },
     "execution_count": 62,
     "metadata": {},
     "output_type": "execute_result"
    }
   ],
   "source": [
    "salaries.count('40k')"
   ]
  },
  {
   "cell_type": "markdown",
   "id": "5ac726c7-da6d-431a-8154-a4faf4b71800",
   "metadata": {},
   "source": [
    "#### 8. Insert a new salary at the second position."
   ]
  },
  {
   "cell_type": "code",
   "execution_count": 3,
   "id": "7adecc02-4db5-4bf3-90d8-eeaaf91b29ec",
   "metadata": {},
   "outputs": [
    {
     "data": {
      "text/plain": [
       "['20k', '10k', '40k', '55k', '60k', '35k', '89k', '40k', '100k', '120k']"
      ]
     },
     "execution_count": 3,
     "metadata": {},
     "output_type": "execute_result"
    }
   ],
   "source": [
    "salaries = ['20k', '40k', '55k', '60k', '35k', '89k', '40k', '100k', '120k']\n",
    "salaries.insert(1, '10k')\n",
    "salaries"
   ]
  },
  {
   "cell_type": "markdown",
   "id": "9ff089fd-d22a-4df2-b254-85d3a12736a8",
   "metadata": {},
   "source": [
    "#### 9. Reverse the order of the salaries list with method."
   ]
  },
  {
   "cell_type": "code",
   "execution_count": 19,
   "id": "6f8e8363-1fdf-4133-b5de-cf5cef5a6533",
   "metadata": {},
   "outputs": [
    {
     "data": {
      "text/plain": [
       "['120k', '100k', '40k', '89k', '35k', '60k', '55k', '40k', '10k', '20k']"
      ]
     },
     "execution_count": 19,
     "metadata": {},
     "output_type": "execute_result"
    }
   ],
   "source": [
    "salaries.reverse()\n",
    "salaries"
   ]
  },
  {
   "cell_type": "markdown",
   "id": "667e6cb3-f9bd-4cc4-8834-1163ba7cc5cb",
   "metadata": {},
   "source": [
    "#### 10. Reverse the order of the salaries list without method."
   ]
  },
  {
   "cell_type": "code",
   "execution_count": 23,
   "id": "93a11d5f-eeb0-498c-b95e-0f4e46d8d675",
   "metadata": {},
   "outputs": [
    {
     "data": {
      "text/plain": [
       "['120k', '100k', '40k', '89k', '35k', '60k', '55k', '40k', '10k', '20k']"
      ]
     },
     "execution_count": 23,
     "metadata": {},
     "output_type": "execute_result"
    }
   ],
   "source": [
    "salaries = ['20k', '10k', '40k', '55k', '60k', '35k', '89k', '40k', '100k', '120k']\n",
    "salaries[::-1]"
   ]
  }
 ],
 "metadata": {
  "kernelspec": {
   "display_name": "Python 3 (ipykernel)",
   "language": "python",
   "name": "python3"
  },
  "language_info": {
   "codemirror_mode": {
    "name": "ipython",
    "version": 3
   },
   "file_extension": ".py",
   "mimetype": "text/x-python",
   "name": "python",
   "nbconvert_exporter": "python",
   "pygments_lexer": "ipython3",
   "version": "3.12.7"
  }
 },
 "nbformat": 4,
 "nbformat_minor": 5
}
